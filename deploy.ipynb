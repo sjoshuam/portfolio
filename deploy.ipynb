{
 "cells": [
  {
   "cell_type": "markdown",
   "id": "18abff59-9b75-4852-850a-6eccc73c4076",
   "metadata": {},
   "source": [
    "## Deploy Project Poster Pages"
   ]
  },
  {
   "cell_type": "code",
   "execution_count": 1,
   "id": "8c2316fe-6754-44a6-84eb-81f97645cb81",
   "metadata": {},
   "outputs": [
    {
     "ename": "FileNotFoundError",
     "evalue": "[Errno 2] No such file or directory: '../word_choice_communities/C_Output/word_choice_communities.png'",
     "output_type": "error",
     "traceback": [
      "\u001b[0;31m---------------------------------------------------------------------------\u001b[0m",
      "\u001b[0;31mFileNotFoundError\u001b[0m                         Traceback (most recent call last)",
      "Input \u001b[0;32mIn [1]\u001b[0m, in \u001b[0;36m<cell line: 35>\u001b[0;34m()\u001b[0m\n\u001b[1;32m     50\u001b[0m         conn\u001b[38;5;241m.\u001b[39mwrite(html_page)\n\u001b[1;32m     52\u001b[0m     \u001b[38;5;66;03m## copy over poster\u001b[39;00m\n\u001b[0;32m---> 53\u001b[0m     \u001b[43mcopy\u001b[49m\u001b[43m(\u001b[49m\u001b[43mdeployable_projects\u001b[49m\u001b[43m[\u001b[49m\u001b[43mi\u001b[49m\u001b[43m]\u001b[49m\u001b[43m,\u001b[49m\u001b[43m \u001b[49m\u001b[38;5;124;43m'\u001b[39;49m\u001b[38;5;124;43mp/\u001b[39;49m\u001b[38;5;124;43m'\u001b[39;49m\u001b[43m \u001b[49m\u001b[38;5;241;43m+\u001b[39;49m\u001b[43m \u001b[49m\u001b[43mi\u001b[49m\u001b[43m \u001b[49m\u001b[38;5;241;43m+\u001b[39;49m\u001b[43m \u001b[49m\u001b[38;5;124;43m'\u001b[39;49m\u001b[38;5;124;43m.png\u001b[39;49m\u001b[38;5;124;43m'\u001b[39;49m\u001b[43m)\u001b[49m\n\u001b[1;32m     55\u001b[0m \u001b[38;5;28mprint\u001b[39m(\u001b[38;5;124m'\u001b[39m\u001b[38;5;124mDone\u001b[39m\u001b[38;5;124m'\u001b[39m)\n",
      "File \u001b[0;32m~/opt/anaconda3/lib/python3.9/shutil.py:427\u001b[0m, in \u001b[0;36mcopy\u001b[0;34m(src, dst, follow_symlinks)\u001b[0m\n\u001b[1;32m    425\u001b[0m \u001b[38;5;28;01mif\u001b[39;00m os\u001b[38;5;241m.\u001b[39mpath\u001b[38;5;241m.\u001b[39misdir(dst):\n\u001b[1;32m    426\u001b[0m     dst \u001b[38;5;241m=\u001b[39m os\u001b[38;5;241m.\u001b[39mpath\u001b[38;5;241m.\u001b[39mjoin(dst, os\u001b[38;5;241m.\u001b[39mpath\u001b[38;5;241m.\u001b[39mbasename(src))\n\u001b[0;32m--> 427\u001b[0m \u001b[43mcopyfile\u001b[49m\u001b[43m(\u001b[49m\u001b[43msrc\u001b[49m\u001b[43m,\u001b[49m\u001b[43m \u001b[49m\u001b[43mdst\u001b[49m\u001b[43m,\u001b[49m\u001b[43m \u001b[49m\u001b[43mfollow_symlinks\u001b[49m\u001b[38;5;241;43m=\u001b[39;49m\u001b[43mfollow_symlinks\u001b[49m\u001b[43m)\u001b[49m\n\u001b[1;32m    428\u001b[0m copymode(src, dst, follow_symlinks\u001b[38;5;241m=\u001b[39mfollow_symlinks)\n\u001b[1;32m    429\u001b[0m \u001b[38;5;28;01mreturn\u001b[39;00m dst\n",
      "File \u001b[0;32m~/opt/anaconda3/lib/python3.9/shutil.py:264\u001b[0m, in \u001b[0;36mcopyfile\u001b[0;34m(src, dst, follow_symlinks)\u001b[0m\n\u001b[1;32m    262\u001b[0m     os\u001b[38;5;241m.\u001b[39msymlink(os\u001b[38;5;241m.\u001b[39mreadlink(src), dst)\n\u001b[1;32m    263\u001b[0m \u001b[38;5;28;01melse\u001b[39;00m:\n\u001b[0;32m--> 264\u001b[0m     \u001b[38;5;28;01mwith\u001b[39;00m \u001b[38;5;28;43mopen\u001b[39;49m\u001b[43m(\u001b[49m\u001b[43msrc\u001b[49m\u001b[43m,\u001b[49m\u001b[43m \u001b[49m\u001b[38;5;124;43m'\u001b[39;49m\u001b[38;5;124;43mrb\u001b[39;49m\u001b[38;5;124;43m'\u001b[39;49m\u001b[43m)\u001b[49m \u001b[38;5;28;01mas\u001b[39;00m fsrc:\n\u001b[1;32m    265\u001b[0m         \u001b[38;5;28;01mtry\u001b[39;00m:\n\u001b[1;32m    266\u001b[0m             \u001b[38;5;28;01mwith\u001b[39;00m \u001b[38;5;28mopen\u001b[39m(dst, \u001b[38;5;124m'\u001b[39m\u001b[38;5;124mwb\u001b[39m\u001b[38;5;124m'\u001b[39m) \u001b[38;5;28;01mas\u001b[39;00m fdst:\n\u001b[1;32m    267\u001b[0m                 \u001b[38;5;66;03m# macOS\u001b[39;00m\n",
      "\u001b[0;31mFileNotFoundError\u001b[0m: [Errno 2] No such file or directory: '../word_choice_communities/C_Output/word_choice_communities.png'"
     ]
    }
   ],
   "source": [
    "##########==========##########==========##########==========##########==========\n",
    "\n",
    "## import libraries\n",
    "from os import listdir\n",
    "from os.path import isdir\n",
    "from shutil import copy\n",
    "\n",
    "## define color scheme (with default for missing)\n",
    "color_scheme = {\n",
    "    'crowded_scatterplot': ('#FFFFFF', '#000000'),\n",
    "    'pop_cluster_map': ('#FFF9F2', '#663D14'),\n",
    "    'travel_suggestions': ('#000000', '#CCCCCC'),\n",
    "    'travel_weather': ('#FFFFFF', '#000000'),\n",
    "    'us_travels': ('#F2F9FF', '#143D66'),\n",
    "    'better_state_borders': ('#FFFFFF', '#000000')\n",
    "    }\n",
    "\n",
    "## import html template\n",
    "with open('p/template.html', 'rt') as conn:\n",
    "    template = conn.read()\n",
    "    conn.close()\n",
    "template = template.replace('{', 'Xyz').replace('}', 'xyZ')\n",
    "template = template.replace('Abc', '{').replace('abC', '}')\n",
    "\n",
    "## detect all deployable projects\n",
    "all_projects = listdir('..')\n",
    "deployable_projects = dict()\n",
    "for i in all_projects:\n",
    "    if isdir('../' + i + '/C_Output'):\n",
    "        deployable_projects[i] = '../' + i + '/C_Output/' + i + '.png'\n",
    "    if isdir('../' + i + '/C_Outputs'):\n",
    "        deployable_projects[i] = '../' + i + '/C_Outputs/' + i + '.png'\n",
    "        \n",
    "## deploy a project page for each eligible project\n",
    "for i in deployable_projects.keys():\n",
    "    \n",
    "    ## lookup color specs\n",
    "    if i in color_scheme.keys():\n",
    "        bg_color = color_scheme[i][0]\n",
    "        fg_color = color_scheme[i][1]\n",
    "    else:\n",
    "        bg_color = '#FFFFFF'\n",
    "        fg_color = '#000000'\n",
    "    \n",
    "    \n",
    "    ## generate html page\n",
    "    with open('p/' + i + '.html', 'wt') as conn:\n",
    "        html_page = template.format(bg_color, fg_color, i)\n",
    "        html_page = html_page.replace('Xyz', '{').replace('xyZ', '}')\n",
    "        conn.write(html_page)\n",
    "        \n",
    "    ## copy over poster\n",
    "    copy(deployable_projects[i], 'p/' + i + '.png')\n",
    "    \n",
    "print('Done')"
   ]
  }
 ],
 "metadata": {
  "kernelspec": {
   "display_name": "Python 3 (ipykernel)",
   "language": "python",
   "name": "python3"
  },
  "language_info": {
   "codemirror_mode": {
    "name": "ipython",
    "version": 3
   },
   "file_extension": ".py",
   "mimetype": "text/x-python",
   "name": "python",
   "nbconvert_exporter": "python",
   "pygments_lexer": "ipython3",
   "version": "3.9.12"
  }
 },
 "nbformat": 4,
 "nbformat_minor": 5
}
