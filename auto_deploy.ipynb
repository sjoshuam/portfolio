{
 "cells": [
  {
   "cell_type": "markdown",
   "id": "18abff59-9b75-4852-850a-6eccc73c4076",
   "metadata": {},
   "source": [
    "## Auto-Deploy Project Poster Pages"
   ]
  },
  {
   "cell_type": "code",
   "execution_count": 1,
   "id": "8c2316fe-6754-44a6-84eb-81f97645cb81",
   "metadata": {},
   "outputs": [],
   "source": [
    "##########==========##########==========##########==========##########==========\n",
    "\n",
    "## import libraries\n",
    "from os import listdir\n",
    "from os.path import isdir\n",
    "from shutil import copy\n",
    "\n",
    "## define color scheme (with default for missing)\n",
    "color_scheme = {\n",
    "    'crowded_scatterplot': ('#FFFFFF', '#000000'),\n",
    "    'pop_cluster_map': ('#FFF2E6', '#804000'),\n",
    "    'travel_suggestions': ('#000000', '#B0B0B0'),\n",
    "    'travel_weather': ('#FFFFFF', '#000000'),\n",
    "    'us_travels': ('#F2F9FF', '#004080'),\n",
    "    'better_state_borders': ('#FFFFFF', '#000000')\n",
    "    }\n",
    "\n",
    "## import html template\n",
    "with open('p/template.html', 'rt') as conn:\n",
    "    template = conn.read()\n",
    "    conn.close()\n",
    "template = template.replace('{', 'Xyz').replace('}', 'xyZ')\n",
    "template = template.replace('Abc', '{').replace('abC', '}')\n",
    "\n",
    "## detect all deployable projects\n",
    "all_projects = listdir('..')\n",
    "deployable_projects = dict()\n",
    "for i in all_projects:\n",
    "    if isdir('../' + i + '/C_Output'):\n",
    "        deployable_projects[i] = '../' + i + '/C_Output/' + i + '.png'\n",
    "    if isdir('../' + i + '/C_Outputs'):\n",
    "        deployable_projects[i] = '../' + i + '/C_Outputs/' + i + '.png'\n",
    "        \n",
    "## deploy a project page for each eligible project\n",
    "for i in deployable_projects.keys():\n",
    "    \n",
    "    ## lookup color specs\n",
    "    if i in color_scheme.keys():\n",
    "        bg_color = color_scheme[i][0]\n",
    "        fg_color = color_scheme[i][1]\n",
    "    else:\n",
    "        bg_color = '#FFFFFF'\n",
    "        fg_color = '#000000'\n",
    "    \n",
    "    \n",
    "    ## generate html page\n",
    "    with open('p/' + i + '.html', 'wt') as conn:\n",
    "        html_page = template.format(bg_color, fg_color, i)\n",
    "        html_page = html_page.replace('Xyz', '{').replace('xyZ', '}')\n",
    "        conn.write(html_page)\n",
    "        \n",
    "    ## copy over poster\n",
    "    copy(deployable_projects[i], 'p/' + i + '.png')"
   ]
  },
  {
   "cell_type": "code",
   "execution_count": null,
   "id": "7fca16da-9873-43f8-b6f2-2d53a1de98b6",
   "metadata": {},
   "outputs": [],
   "source": []
  }
 ],
 "metadata": {
  "kernelspec": {
   "display_name": "Python 3 (ipykernel)",
   "language": "python",
   "name": "python3"
  },
  "language_info": {
   "codemirror_mode": {
    "name": "ipython",
    "version": 3
   },
   "file_extension": ".py",
   "mimetype": "text/x-python",
   "name": "python",
   "nbconvert_exporter": "python",
   "pygments_lexer": "ipython3",
   "version": "3.10.4"
  }
 },
 "nbformat": 4,
 "nbformat_minor": 5
}
